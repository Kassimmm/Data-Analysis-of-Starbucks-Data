{
 "cells": [
  {
   "cell_type": "code",
   "execution_count": 15,
   "metadata": {},
   "outputs": [],
   "source": [
    "import csv\n",
    "import numpy as np\n",
    "import matplotlib.pyplot as plt\n",
    "import pandas as pd"
   ]
  },
  {
   "cell_type": "code",
   "execution_count": 16,
   "metadata": {},
   "outputs": [],
   "source": [
    "#load data from csv file\n",
    "data = pd.read_csv('stores.csv')"
   ]
  },
  {
   "cell_type": "code",
   "execution_count": 17,
   "metadata": {},
   "outputs": [
    {
     "name": "stdout",
     "output_type": "stream",
     "text": [
      "                                         Id  StarbucksId  \\\n",
      "0      1f2d204f-e773-4361-9158-0008307dbd5e        10357   \n",
      "1      49455e22-49e9-461f-912c-00092386eaee         6557   \n",
      "2      1316ebf8-ee4a-479d-a11d-000964af367b      1010600   \n",
      "3      1b8b9007-4587-4942-bf29-000a0af78161      1014921   \n",
      "4      072752df-b30b-4f3f-a9b8-000ae32f8666        14667   \n",
      "...                                     ...          ...   \n",
      "25595  3d795b3d-5101-4bfa-8d4a-ffeac5ce30ad         1633   \n",
      "25596  3ce8d70e-2eaf-4200-b6af-fff401167436         6300   \n",
      "25597  f86b90e4-5423-4b6d-835f-fff87e08721c      1012298   \n",
      "25598  62375258-a9f2-44fb-b98e-fff9c35670e7      1012848   \n",
      "25599  e8fbdbbe-c086-44b7-a1b1-fffb38f17b1a        15585   \n",
      "\n",
      "                                 Name  BrandName   StoreNumber   PhoneNumber  \\\n",
      "0               Target Virginia T-847  Starbucks   76666-97597  218-741-6603   \n",
      "1                             PDX A 2  Starbucks  75916-104381  503-284-4008   \n",
      "2                   235 Bourke Street  Starbucks  25294-240419           NaN   \n",
      "3                      Oasis Al-Kharj  Starbucks  27350-247327           NaN   \n",
      "4              Target Trumbull T-1956  Starbucks   76306-93245  203-455-0102   \n",
      "...                               ...        ...           ...           ...   \n",
      "25595                           上海书城店  Starbucks   1396-140870  021-63914776   \n",
      "25596                         Bei Xin  Starbucks  31003-102685           NaN   \n",
      "25597  San Ramon Valley & Crow Canyon  Starbucks  25784-242224  925-421-5615   \n",
      "25598             Teavana - Hillcrest    Teavana  28652-250205  905-883-3832   \n",
      "25599    Crenshaw & Airport, Torrance  Starbucks    6849-79123  310-534-4835   \n",
      "\n",
      "      OwnershipType                           Street1         Street2  \\\n",
      "0                LS                    1001 13th St S             NaN   \n",
      "1                LS         7000 NE Airport Way, MB#3             NaN   \n",
      "2                LS                 235-251 Bourke St  Shops 5,6 & 10   \n",
      "3                LS                  King Abdullah Rd      Al Khuzama   \n",
      "4                LS                     120 Hawley Ln             NaN   \n",
      "...             ...                               ...             ...   \n",
      "25595            JV                               黄浦区            东侧商铺   \n",
      "25596            JV  No. 27, Minquan Rd, Xindian Dist              1F   \n",
      "25597            CO        2435 San Ramon Valley Blvd         Suite 7   \n",
      "25598            CO                    9350 Yonge St.      Unit H007B   \n",
      "25599            CO              25348 Crenshaw Blvd.             NaN   \n",
      "\n",
      "                   Street3  ... CountrySubdivisionCode CountryCode PostalCode  \\\n",
      "0                      NaN  ...                     MN          US  557923254   \n",
      "1                      NaN  ...                     OR          US  972181031   \n",
      "2                      NaN  ...                    VIC          AU       3000   \n",
      "3                      NaN  ...                     01          SA        NaN   \n",
      "4                      NaN  ...                     CT          US  066115347   \n",
      "...                    ...  ...                    ...         ...        ...   \n",
      "25595            福州路465号2楼  ...                     31          CN     200001   \n",
      "25596                  NaN  ...                    TPQ          TW        231   \n",
      "25597                  NaN  ...                     CA          US      94583   \n",
      "25598            Hillcrest  ...                     ON          CA    L4C 5G5   \n",
      "25599  Rolling Hills Plaza  ...                     CA          US  905056100   \n",
      "\n",
      "      Longitude  Latitude  TimezoneOffset                 TimezoneId  \\\n",
      "0        -92.55     47.51            -360      Central Standard Time   \n",
      "1       -122.59     45.59            -480      Pacific Standard Time   \n",
      "2        144.97    -37.81             660  AUS Eastern Standard Time   \n",
      "3         47.27     24.13             180         Arab Standard Time   \n",
      "4        -73.15     41.23            -300      Eastern Standard Time   \n",
      "...         ...       ...             ...                        ...   \n",
      "25595    121.48     31.23             480        China Standard Time   \n",
      "25596    121.54     24.98             480       Taipei Standard Time   \n",
      "25597   -121.98     37.77            -480      Pacific Standard Time   \n",
      "25598    -79.43     43.85            -300      Eastern Standard Time   \n",
      "25599   -118.33     33.79            -480      Pacific Standard Time   \n",
      "\n",
      "                     TimezoneOlsonId              FirstSeen  \\\n",
      "0          GMT-06:00 America/Chicago   12/8/2013 5:41:59 PM   \n",
      "1      GMT-08:00 America/Los_Angeles   12/8/2013 5:41:59 PM   \n",
      "2      GMT+10:00 Australia/Melbourne  10/8/2014 12:00:00 AM   \n",
      "3              GMT+03:00 Asia/Riyadh  6/21/2016 12:00:00 AM   \n",
      "4         GMT-05:00 America/New_York   12/8/2013 5:41:59 PM   \n",
      "...                              ...                    ...   \n",
      "25595         GMT+08:00 Asia/Beijing   12/8/2013 5:41:59 PM   \n",
      "25596          GMT+08:00 Asia/Taipei   12/8/2013 5:41:59 PM   \n",
      "25597  GMT-08:00 America/Los_Angeles  7/25/2015 12:00:00 AM   \n",
      "25598      GMT-05:00 America/Toronto  7/11/2015 12:00:00 AM   \n",
      "25599  GMT-08:00 America/Los_Angeles   12/8/2013 5:41:59 PM   \n",
      "\n",
      "                   LastSeen  \n",
      "0      2/3/2017 12:00:00 AM  \n",
      "1      2/3/2017 12:00:00 AM  \n",
      "2      2/3/2017 12:00:00 AM  \n",
      "3      2/3/2017 12:00:00 AM  \n",
      "4      2/3/2017 12:00:00 AM  \n",
      "...                     ...  \n",
      "25595  2/3/2017 12:00:00 AM  \n",
      "25596  2/3/2017 12:00:00 AM  \n",
      "25597  2/3/2017 12:00:00 AM  \n",
      "25598  2/3/2017 12:00:00 AM  \n",
      "25599  2/3/2017 12:00:00 AM  \n",
      "\n",
      "[25600 rows x 21 columns]\n"
     ]
    }
   ],
   "source": [
    "#display the data into dataframe\n",
    "df = pd.DataFrame(data)\n",
    "print(df)"
   ]
  },
  {
   "cell_type": "code",
   "execution_count": 35,
   "metadata": {},
   "outputs": [],
   "source": [
    "import os\n",
    "import pandas as pd\n",
    "\n",
    "def generate_sample_data(data, file_name, num_rows=10000):\n",
    "    if not os.path.exists(file_name):\n",
    "        df = data.sample(n=num_rows, random_state=1)\n",
    "        df.to_csv(file_name, index=False)\n",
    "\n",
    "generate_sample_data(data, 'sample_data.csv')"
   ]
  },
  {
   "cell_type": "code",
   "execution_count": 19,
   "metadata": {},
   "outputs": [
    {
     "name": "stdout",
     "output_type": "stream",
     "text": [
      "Index(['Id', 'StarbucksId', 'Name', 'BrandName', 'StoreNumber', 'PhoneNumber',\n",
      "       'OwnershipType', 'Street1', 'Street2', 'Street3', 'City',\n",
      "       'CountrySubdivisionCode', 'CountryCode', 'PostalCode', 'Longitude',\n",
      "       'Latitude', 'TimezoneOffset', 'TimezoneId', 'TimezoneOlsonId',\n",
      "       'FirstSeen', 'LastSeen'],\n",
      "      dtype='object')\n"
     ]
    }
   ],
   "source": [
    "#features in dataset\n",
    "print(df.columns)"
   ]
  },
  {
   "cell_type": "code",
   "execution_count": 20,
   "metadata": {},
   "outputs": [
    {
     "name": "stdout",
     "output_type": "stream",
     "text": [
      "                                     Id  StarbucksId                    Name  \\\n",
      "0  1f2d204f-e773-4361-9158-0008307dbd5e        10357   Target Virginia T-847   \n",
      "1  49455e22-49e9-461f-912c-00092386eaee         6557                 PDX A 2   \n",
      "2  1316ebf8-ee4a-479d-a11d-000964af367b      1010600       235 Bourke Street   \n",
      "3  1b8b9007-4587-4942-bf29-000a0af78161      1014921          Oasis Al-Kharj   \n",
      "4  072752df-b30b-4f3f-a9b8-000ae32f8666        14667  Target Trumbull T-1956   \n",
      "\n",
      "   BrandName   StoreNumber   PhoneNumber OwnershipType  \\\n",
      "0  Starbucks   76666-97597  218-741-6603            LS   \n",
      "1  Starbucks  75916-104381  503-284-4008            LS   \n",
      "2  Starbucks  25294-240419           NaN            LS   \n",
      "3  Starbucks  27350-247327           NaN            LS   \n",
      "4  Starbucks   76306-93245  203-455-0102            LS   \n",
      "\n",
      "                     Street1         Street2 Street3  ...  \\\n",
      "0             1001 13th St S             NaN     NaN  ...   \n",
      "1  7000 NE Airport Way, MB#3             NaN     NaN  ...   \n",
      "2          235-251 Bourke St  Shops 5,6 & 10     NaN  ...   \n",
      "3           King Abdullah Rd      Al Khuzama     NaN  ...   \n",
      "4              120 Hawley Ln             NaN     NaN  ...   \n",
      "\n",
      "  CountrySubdivisionCode CountryCode PostalCode Longitude  Latitude  \\\n",
      "0                     MN          US  557923254    -92.55     47.51   \n",
      "1                     OR          US  972181031   -122.59     45.59   \n",
      "2                    VIC          AU       3000    144.97    -37.81   \n",
      "3                     01          SA        NaN     47.27     24.13   \n",
      "4                     CT          US  066115347    -73.15     41.23   \n",
      "\n",
      "   TimezoneOffset                 TimezoneId                TimezoneOlsonId  \\\n",
      "0            -360      Central Standard Time      GMT-06:00 America/Chicago   \n",
      "1            -480      Pacific Standard Time  GMT-08:00 America/Los_Angeles   \n",
      "2             660  AUS Eastern Standard Time  GMT+10:00 Australia/Melbourne   \n",
      "3             180         Arab Standard Time          GMT+03:00 Asia/Riyadh   \n",
      "4            -300      Eastern Standard Time     GMT-05:00 America/New_York   \n",
      "\n",
      "               FirstSeen              LastSeen  \n",
      "0   12/8/2013 5:41:59 PM  2/3/2017 12:00:00 AM  \n",
      "1   12/8/2013 5:41:59 PM  2/3/2017 12:00:00 AM  \n",
      "2  10/8/2014 12:00:00 AM  2/3/2017 12:00:00 AM  \n",
      "3  6/21/2016 12:00:00 AM  2/3/2017 12:00:00 AM  \n",
      "4   12/8/2013 5:41:59 PM  2/3/2017 12:00:00 AM  \n",
      "\n",
      "[5 rows x 21 columns]\n"
     ]
    }
   ],
   "source": [
    "def load_data():\n",
    "    data = pd.read_csv(\"stores.csv\")\n",
    "    # data = data.drop(columns=['Id', 'Street1', 'Street2', 'Street3', 'PostalCode', 'PhoneNumber', 'FirstSeen', 'LastSeen'])\n",
    "    print(data.head())\n",
    "    return data\n",
    "\n",
    "data = load_data()"
   ]
  },
  {
   "cell_type": "code",
   "execution_count": 21,
   "metadata": {},
   "outputs": [
    {
     "name": "stdout",
     "output_type": "stream",
     "text": [
      "Id                            0\n",
      "StarbucksId                   0\n",
      "Name                          0\n",
      "BrandName                     0\n",
      "StoreNumber                   0\n",
      "PhoneNumber                6861\n",
      "OwnershipType                 0\n",
      "Street1                       4\n",
      "Street2                   17176\n",
      "Street3                   19868\n",
      "City                         15\n",
      "CountrySubdivisionCode        0\n",
      "CountryCode                   0\n",
      "PostalCode                 1522\n",
      "Longitude                     1\n",
      "Latitude                      1\n",
      "TimezoneOffset                0\n",
      "TimezoneId                    0\n",
      "TimezoneOlsonId               0\n",
      "FirstSeen                     0\n",
      "LastSeen                      0\n",
      "dtype: int64\n"
     ]
    }
   ],
   "source": [
    "#count missing values in each column\n",
    "print(data.isnull().sum())"
   ]
  },
  {
   "cell_type": "code",
   "execution_count": 22,
   "metadata": {},
   "outputs": [
    {
     "name": "stdout",
     "output_type": "stream",
     "text": [
      "Total cities: 25585\n",
      "Total Longitude: 25599\n",
      "Total Latitude: 25599\n"
     ]
    }
   ],
   "source": [
    "#total number of City values\n",
    "print(f\"Total cities: {data['City'].count()}\")\n",
    "\n",
    "#total number of Longitude values\n",
    "print(f\"Total Longitude: {data['Longitude'].count()}\")\n",
    "\n",
    "#total number of Latitude values\n",
    "print(f\"Total Latitude: {data['Latitude'].count()}\")"
   ]
  },
  {
   "cell_type": "code",
   "execution_count": 23,
   "metadata": {},
   "outputs": [],
   "source": [
    "#dropped 15 missing cities\n",
    "data = data.dropna(subset=['City', 'Longitude', 'Latitude'])"
   ]
  },
  {
   "cell_type": "code",
   "execution_count": 24,
   "metadata": {},
   "outputs": [
    {
     "name": "stdout",
     "output_type": "stream",
     "text": [
      "Id                            0\n",
      "StarbucksId                   0\n",
      "Name                          0\n",
      "BrandName                     0\n",
      "StoreNumber                   0\n",
      "PhoneNumber                6860\n",
      "OwnershipType                 0\n",
      "Street1                       3\n",
      "Street2                   17162\n",
      "Street3                   19865\n",
      "City                          0\n",
      "CountrySubdivisionCode        0\n",
      "CountryCode                   0\n",
      "PostalCode                 1507\n",
      "Longitude                     0\n",
      "Latitude                      0\n",
      "TimezoneOffset                0\n",
      "TimezoneId                    0\n",
      "TimezoneOlsonId               0\n",
      "FirstSeen                     0\n",
      "LastSeen                      0\n",
      "dtype: int64\n"
     ]
    }
   ],
   "source": [
    "#count missing values in each column\n",
    "print(data.isnull().sum())"
   ]
  },
  {
   "cell_type": "code",
   "execution_count": 25,
   "metadata": {},
   "outputs": [
    {
     "name": "stdout",
     "output_type": "stream",
     "text": [
      "['Starbucks' 'Teavana' 'Evolution Fresh' 'Coffee House Holdings']\n"
     ]
    }
   ],
   "source": [
    "#list all unique values in BrandName column\n",
    "print(data['BrandName'].unique())"
   ]
  },
  {
   "cell_type": "code",
   "execution_count": 26,
   "metadata": {},
   "outputs": [
    {
     "name": "stdout",
     "output_type": "stream",
     "text": [
      "['Virginia' 'Portland' 'Melbourne' ... 'Seremban'\n",
      " 'Municipio de Huixquilucan' 'Wright-Patterson AFB']\n"
     ]
    }
   ],
   "source": [
    "#list all unique values in City column\n",
    "print(data['City'].unique())"
   ]
  },
  {
   "cell_type": "code",
   "execution_count": 29,
   "metadata": {},
   "outputs": [
    {
     "name": "stdout",
     "output_type": "stream",
     "text": [
      "2017\n",
      "2013\n"
     ]
    }
   ],
   "source": [
    "# Convert FirstSeen column to datetime\n",
    "data['FirstSeen'] = pd.to_datetime(data['FirstSeen'], format='%m/%d/%Y %I:%M:%S %p')\n",
    "\n",
    "# Extract year from FirstSeen column\n",
    "data['FirstSeenYear'] = data['FirstSeen'].dt.year\n",
    "\n",
    "# Determine the range of years\n",
    "year_min = data['FirstSeenYear'].min()\n",
    "year_max = data['FirstSeenYear'].max()\n",
    "\n",
    "\n",
    "print(year_max)\n",
    "print(year_min)"
   ]
  },
  {
   "cell_type": "code",
   "execution_count": 31,
   "metadata": {},
   "outputs": [
    {
     "name": "stdout",
     "output_type": "stream",
     "text": [
      "['LS' 'CO' 'JV' 'FR']\n"
     ]
    }
   ],
   "source": [
    "#Count the number of unique ownership types\n",
    "print(data['OwnershipType'].unique())"
   ]
  },
  {
   "cell_type": "markdown",
   "metadata": {},
   "source": [
    "def load_data():\n",
    "    data = pd.read_csv(\"stores.csv\")\n",
    "    data = data.drop(columns=['Id', 'PostalCode', 'PhoneNumber'])\n",
    "    data.dropna(subset=['Latitude', 'Longitude'], inplace=True)\n",
    "    return data\n"
   ]
  },
  {
   "cell_type": "code",
   "execution_count": null,
   "metadata": {},
   "outputs": [],
   "source": []
  }
 ],
 "metadata": {
  "kernelspec": {
   "display_name": "env",
   "language": "python",
   "name": "python3"
  },
  "language_info": {
   "codemirror_mode": {
    "name": "ipython",
    "version": 3
   },
   "file_extension": ".py",
   "mimetype": "text/x-python",
   "name": "python",
   "nbconvert_exporter": "python",
   "pygments_lexer": "ipython3",
   "version": "3.10.0"
  }
 },
 "nbformat": 4,
 "nbformat_minor": 2
}
